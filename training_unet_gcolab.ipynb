{
 "cells": [
  {
   "cell_type": "markdown",
   "metadata": {
    "id": "G6aJnxDPjrOa"
   },
   "source": [
    "# Training UNet on Google Colab"
   ]
  },
  {
   "cell_type": "code",
   "execution_count": 1,
   "metadata": {
    "colab": {
     "base_uri": "https://localhost:8080/"
    },
    "executionInfo": {
     "elapsed": 16436,
     "status": "ok",
     "timestamp": 1734108723459,
     "user": {
      "displayName": "Akhil Prabhu",
      "userId": "15303007467658236616"
     },
     "user_tz": 300
    },
    "id": "HKJMijj5jrOd",
    "outputId": "1b69c139-6b28-488f-d1ba-bea1db677faf"
   },
   "outputs": [
    {
     "name": "stdout",
     "output_type": "stream",
     "text": [
      "Requirement already satisfied: tqdm in /usr/local/lib/python3.10/dist-packages (4.66.6)\n",
      "Requirement already satisfied: matplotlib in /usr/local/lib/python3.10/dist-packages (3.8.0)\n",
      "Requirement already satisfied: torch in /usr/local/lib/python3.10/dist-packages (2.5.1+cu121)\n",
      "Requirement already satisfied: torchvision in /usr/local/lib/python3.10/dist-packages (0.20.1+cu121)\n",
      "Requirement already satisfied: contourpy>=1.0.1 in /usr/local/lib/python3.10/dist-packages (from matplotlib) (1.3.1)\n",
      "Requirement already satisfied: cycler>=0.10 in /usr/local/lib/python3.10/dist-packages (from matplotlib) (0.12.1)\n",
      "Requirement already satisfied: fonttools>=4.22.0 in /usr/local/lib/python3.10/dist-packages (from matplotlib) (4.55.2)\n",
      "Requirement already satisfied: kiwisolver>=1.0.1 in /usr/local/lib/python3.10/dist-packages (from matplotlib) (1.4.7)\n",
      "Requirement already satisfied: numpy<2,>=1.21 in /usr/local/lib/python3.10/dist-packages (from matplotlib) (1.26.4)\n",
      "Requirement already satisfied: packaging>=20.0 in /usr/local/lib/python3.10/dist-packages (from matplotlib) (24.2)\n",
      "Requirement already satisfied: pillow>=6.2.0 in /usr/local/lib/python3.10/dist-packages (from matplotlib) (11.0.0)\n",
      "Requirement already satisfied: pyparsing>=2.3.1 in /usr/local/lib/python3.10/dist-packages (from matplotlib) (3.2.0)\n",
      "Requirement already satisfied: python-dateutil>=2.7 in /usr/local/lib/python3.10/dist-packages (from matplotlib) (2.8.2)\n",
      "Requirement already satisfied: filelock in /usr/local/lib/python3.10/dist-packages (from torch) (3.16.1)\n",
      "Requirement already satisfied: typing-extensions>=4.8.0 in /usr/local/lib/python3.10/dist-packages (from torch) (4.12.2)\n",
      "Requirement already satisfied: networkx in /usr/local/lib/python3.10/dist-packages (from torch) (3.4.2)\n",
      "Requirement already satisfied: jinja2 in /usr/local/lib/python3.10/dist-packages (from torch) (3.1.4)\n",
      "Requirement already satisfied: fsspec in /usr/local/lib/python3.10/dist-packages (from torch) (2024.10.0)\n",
      "Requirement already satisfied: sympy==1.13.1 in /usr/local/lib/python3.10/dist-packages (from torch) (1.13.1)\n",
      "Requirement already satisfied: mpmath<1.4,>=1.1.0 in /usr/local/lib/python3.10/dist-packages (from sympy==1.13.1->torch) (1.3.0)\n",
      "Requirement already satisfied: six>=1.5 in /usr/local/lib/python3.10/dist-packages (from python-dateutil>=2.7->matplotlib) (1.17.0)\n",
      "Requirement already satisfied: MarkupSafe>=2.0 in /usr/local/lib/python3.10/dist-packages (from jinja2->torch) (3.0.2)\n",
      "Mounted at /content/gdrive\n"
     ]
    }
   ],
   "source": [
    "# Install necessary libraries (if not already installed)\n",
    "!pip install tqdm matplotlib torch torchvision\n",
    "\n",
    "# Mount Google Drive to save checkpoints and data\n",
    "from google.colab import drive\n",
    "drive.mount('/content/gdrive', force_remount=True)"
   ]
  },
  {
   "cell_type": "markdown",
   "metadata": {
    "id": "5HBCWllojrOe"
   },
   "source": [
    "## Import Necessary Modules"
   ]
  },
  {
   "cell_type": "code",
   "execution_count": 2,
   "metadata": {
    "colab": {
     "base_uri": "https://localhost:8080/"
    },
    "executionInfo": {
     "elapsed": 5640,
     "status": "ok",
     "timestamp": 1734108729098,
     "user": {
      "displayName": "Akhil Prabhu",
      "userId": "15303007467658236616"
     },
     "user_tz": 300
    },
    "id": "T3VlIP7gjrOe",
    "outputId": "85f95bcc-dadc-4c1a-c4f7-36a0cab9b328"
   },
   "outputs": [
    {
     "name": "stdout",
     "output_type": "stream",
     "text": [
      "/content/gdrive/MyDrive/StevensIT/EE 628/Final Project\n"
     ]
    }
   ],
   "source": [
    "import torch\n",
    "import torch.optim as optim\n",
    "from torch.utils.data import DataLoader\n",
    "from tqdm import tqdm\n",
    "import numpy as np\n",
    "import os\n",
    "import matplotlib.pyplot as plt\n",
    "import time\n",
    "\n",
    "%cd /content/gdrive/MyDrive/StevensIT/EE 628/Final Project\n",
    "\n",
    "# Import local files (assuming they are uploaded in Colab)\n",
    "from evaluate import DiceBCELoss  # Define DiceBCELoss in evaluate.py\n",
    "from unet import UNet  # Define UNet in unet.py\n",
    "from brain_mri_dataset import BrainMRIDataset  # Define BrainMRIDataset in brain_mri_dataset.py\n",
    "from data_utils import get_data_loaders  # Define get_data_loaders in data_utils.py"
   ]
  },
  {
   "cell_type": "markdown",
   "metadata": {
    "id": "nl84NTS7jrOf"
   },
   "source": [
    "## Configuration"
   ]
  },
  {
   "cell_type": "code",
   "execution_count": 3,
   "metadata": {
    "colab": {
     "base_uri": "https://localhost:8080/"
    },
    "executionInfo": {
     "elapsed": 3,
     "status": "ok",
     "timestamp": 1734108729098,
     "user": {
      "displayName": "Akhil Prabhu",
      "userId": "15303007467658236616"
     },
     "user_tz": 300
    },
    "id": "UT4An2i4jrOf",
    "outputId": "13cf024e-1c07-47a7-e74d-5645b70c48c8"
   },
   "outputs": [
    {
     "name": "stdout",
     "output_type": "stream",
     "text": [
      "Using device: cuda\n"
     ]
    }
   ],
   "source": [
    "device = torch.device(\"cuda\" if torch.cuda.is_available() else \"cpu\")\n",
    "torch.backends.cudnn.benchmark = True  # Enable cuDNN auto-tuning\n",
    "print(f\"Using device: {device}\")\n",
    "\n",
    "batch_size = 10\n",
    "learning_rate = 0.0001\n",
    "num_epochs = 25\n",
    "checkpoint_dir = \"UNet_checkpoints\"  # Save checkpoints to Google Drive\n",
    "\n",
    "# Ensure the checkpoint directory exists\n",
    "os.makedirs(checkpoint_dir, exist_ok=True)"
   ]
  },
  {
   "cell_type": "markdown",
   "metadata": {
    "id": "RxMsJIBcjrOg"
   },
   "source": [
    "## Initialize Dataset and Dataloaders"
   ]
  },
  {
   "cell_type": "code",
   "execution_count": 4,
   "metadata": {
    "colab": {
     "base_uri": "https://localhost:8080/"
    },
    "executionInfo": {
     "elapsed": 9907,
     "status": "ok",
     "timestamp": 1734108739003,
     "user": {
      "displayName": "Akhil Prabhu",
      "userId": "15303007467658236616"
     },
     "user_tz": 300
    },
    "id": "ewt8_Uy9jrOg",
    "outputId": "4ae8993e-b229-4ec7-e7a2-861f5e29493d"
   },
   "outputs": [
    {
     "name": "stdout",
     "output_type": "stream",
     "text": [
      "354\n",
      "40\n"
     ]
    }
   ],
   "source": [
    "dataset_path = './data/lgg-mri-segmentation/kaggle_3m'  # Path to dataset in Google Drive\n",
    "preload = False\n",
    "dataset = BrainMRIDataset(root_path=dataset_path, preload=preload)\n",
    "train_loader, val_loader = get_data_loaders(dataset, batch_size=batch_size, train_size=0.9, preload=preload)\n",
    "print(len(train_loader))\n",
    "print(len(val_loader))"
   ]
  },
  {
   "cell_type": "markdown",
   "metadata": {
    "id": "pNUd17BnjrOg"
   },
   "source": [
    "## Initialize Model, Loss Function, and Optimizer"
   ]
  },
  {
   "cell_type": "code",
   "execution_count": 5,
   "metadata": {
    "colab": {
     "base_uri": "https://localhost:8080/"
    },
    "executionInfo": {
     "elapsed": 4248,
     "status": "ok",
     "timestamp": 1734108743247,
     "user": {
      "displayName": "Akhil Prabhu",
      "userId": "15303007467658236616"
     },
     "user_tz": 300
    },
    "id": "cmU_RHT3jrOg",
    "outputId": "756fe152-ad9e-485c-c4c5-18ed63a52b86"
   },
   "outputs": [
    {
     "name": "stdout",
     "output_type": "stream",
     "text": [
      "UNet(\n",
      "  (encoder1): DownSample(\n",
      "    (conv): DoubleConv(\n",
      "      (conv_op): Sequential(\n",
      "        (0): Conv2d(3, 64, kernel_size=(3, 3), stride=(1, 1), padding=(1, 1))\n",
      "        (1): BatchNorm2d(64, eps=1e-05, momentum=0.1, affine=True, track_running_stats=True)\n",
      "        (2): ReLU(inplace=True)\n",
      "        (3): Conv2d(64, 64, kernel_size=(3, 3), stride=(1, 1), padding=(1, 1))\n",
      "        (4): BatchNorm2d(64, eps=1e-05, momentum=0.1, affine=True, track_running_stats=True)\n",
      "        (5): ReLU(inplace=True)\n",
      "      )\n",
      "    )\n",
      "    (pool): MaxPool2d(kernel_size=2, stride=2, padding=0, dilation=1, ceil_mode=False)\n",
      "  )\n",
      "  (encoder2): DownSample(\n",
      "    (conv): DoubleConv(\n",
      "      (conv_op): Sequential(\n",
      "        (0): Conv2d(64, 128, kernel_size=(3, 3), stride=(1, 1), padding=(1, 1))\n",
      "        (1): BatchNorm2d(128, eps=1e-05, momentum=0.1, affine=True, track_running_stats=True)\n",
      "        (2): ReLU(inplace=True)\n",
      "        (3): Conv2d(128, 128, kernel_size=(3, 3), stride=(1, 1), padding=(1, 1))\n",
      "        (4): BatchNorm2d(128, eps=1e-05, momentum=0.1, affine=True, track_running_stats=True)\n",
      "        (5): ReLU(inplace=True)\n",
      "      )\n",
      "    )\n",
      "    (pool): MaxPool2d(kernel_size=2, stride=2, padding=0, dilation=1, ceil_mode=False)\n",
      "  )\n",
      "  (encoder3): DownSample(\n",
      "    (conv): DoubleConv(\n",
      "      (conv_op): Sequential(\n",
      "        (0): Conv2d(128, 256, kernel_size=(3, 3), stride=(1, 1), padding=(1, 1))\n",
      "        (1): BatchNorm2d(256, eps=1e-05, momentum=0.1, affine=True, track_running_stats=True)\n",
      "        (2): ReLU(inplace=True)\n",
      "        (3): Conv2d(256, 256, kernel_size=(3, 3), stride=(1, 1), padding=(1, 1))\n",
      "        (4): BatchNorm2d(256, eps=1e-05, momentum=0.1, affine=True, track_running_stats=True)\n",
      "        (5): ReLU(inplace=True)\n",
      "      )\n",
      "    )\n",
      "    (pool): MaxPool2d(kernel_size=2, stride=2, padding=0, dilation=1, ceil_mode=False)\n",
      "  )\n",
      "  (encoder4): DownSample(\n",
      "    (conv): DoubleConv(\n",
      "      (conv_op): Sequential(\n",
      "        (0): Conv2d(256, 512, kernel_size=(3, 3), stride=(1, 1), padding=(1, 1))\n",
      "        (1): BatchNorm2d(512, eps=1e-05, momentum=0.1, affine=True, track_running_stats=True)\n",
      "        (2): ReLU(inplace=True)\n",
      "        (3): Conv2d(512, 512, kernel_size=(3, 3), stride=(1, 1), padding=(1, 1))\n",
      "        (4): BatchNorm2d(512, eps=1e-05, momentum=0.1, affine=True, track_running_stats=True)\n",
      "        (5): ReLU(inplace=True)\n",
      "      )\n",
      "    )\n",
      "    (pool): MaxPool2d(kernel_size=2, stride=2, padding=0, dilation=1, ceil_mode=False)\n",
      "  )\n",
      "  (bottle_neck): DoubleConv(\n",
      "    (conv_op): Sequential(\n",
      "      (0): Conv2d(512, 1024, kernel_size=(3, 3), stride=(1, 1), padding=(1, 1))\n",
      "      (1): BatchNorm2d(1024, eps=1e-05, momentum=0.1, affine=True, track_running_stats=True)\n",
      "      (2): ReLU(inplace=True)\n",
      "      (3): Conv2d(1024, 1024, kernel_size=(3, 3), stride=(1, 1), padding=(1, 1))\n",
      "      (4): BatchNorm2d(1024, eps=1e-05, momentum=0.1, affine=True, track_running_stats=True)\n",
      "      (5): ReLU(inplace=True)\n",
      "    )\n",
      "  )\n",
      "  (decoder1): UpSample(\n",
      "    (up): ConvTranspose2d(1024, 512, kernel_size=(2, 2), stride=(2, 2))\n",
      "    (conv): DoubleConv(\n",
      "      (conv_op): Sequential(\n",
      "        (0): Conv2d(1024, 512, kernel_size=(3, 3), stride=(1, 1), padding=(1, 1))\n",
      "        (1): BatchNorm2d(512, eps=1e-05, momentum=0.1, affine=True, track_running_stats=True)\n",
      "        (2): ReLU(inplace=True)\n",
      "        (3): Conv2d(512, 512, kernel_size=(3, 3), stride=(1, 1), padding=(1, 1))\n",
      "        (4): BatchNorm2d(512, eps=1e-05, momentum=0.1, affine=True, track_running_stats=True)\n",
      "        (5): ReLU(inplace=True)\n",
      "      )\n",
      "    )\n",
      "  )\n",
      "  (decoder2): UpSample(\n",
      "    (up): ConvTranspose2d(512, 256, kernel_size=(2, 2), stride=(2, 2))\n",
      "    (conv): DoubleConv(\n",
      "      (conv_op): Sequential(\n",
      "        (0): Conv2d(512, 256, kernel_size=(3, 3), stride=(1, 1), padding=(1, 1))\n",
      "        (1): BatchNorm2d(256, eps=1e-05, momentum=0.1, affine=True, track_running_stats=True)\n",
      "        (2): ReLU(inplace=True)\n",
      "        (3): Conv2d(256, 256, kernel_size=(3, 3), stride=(1, 1), padding=(1, 1))\n",
      "        (4): BatchNorm2d(256, eps=1e-05, momentum=0.1, affine=True, track_running_stats=True)\n",
      "        (5): ReLU(inplace=True)\n",
      "      )\n",
      "    )\n",
      "  )\n",
      "  (decoder3): UpSample(\n",
      "    (up): ConvTranspose2d(256, 128, kernel_size=(2, 2), stride=(2, 2))\n",
      "    (conv): DoubleConv(\n",
      "      (conv_op): Sequential(\n",
      "        (0): Conv2d(256, 128, kernel_size=(3, 3), stride=(1, 1), padding=(1, 1))\n",
      "        (1): BatchNorm2d(128, eps=1e-05, momentum=0.1, affine=True, track_running_stats=True)\n",
      "        (2): ReLU(inplace=True)\n",
      "        (3): Conv2d(128, 128, kernel_size=(3, 3), stride=(1, 1), padding=(1, 1))\n",
      "        (4): BatchNorm2d(128, eps=1e-05, momentum=0.1, affine=True, track_running_stats=True)\n",
      "        (5): ReLU(inplace=True)\n",
      "      )\n",
      "    )\n",
      "  )\n",
      "  (decoder4): UpSample(\n",
      "    (up): ConvTranspose2d(128, 64, kernel_size=(2, 2), stride=(2, 2))\n",
      "    (conv): DoubleConv(\n",
      "      (conv_op): Sequential(\n",
      "        (0): Conv2d(128, 64, kernel_size=(3, 3), stride=(1, 1), padding=(1, 1))\n",
      "        (1): BatchNorm2d(64, eps=1e-05, momentum=0.1, affine=True, track_running_stats=True)\n",
      "        (2): ReLU(inplace=True)\n",
      "        (3): Conv2d(64, 64, kernel_size=(3, 3), stride=(1, 1), padding=(1, 1))\n",
      "        (4): BatchNorm2d(64, eps=1e-05, momentum=0.1, affine=True, track_running_stats=True)\n",
      "        (5): ReLU(inplace=True)\n",
      "      )\n",
      "    )\n",
      "  )\n",
      "  (out): Conv2d(64, 1, kernel_size=(1, 1), stride=(1, 1))\n",
      ")\n"
     ]
    }
   ],
   "source": [
    "model = UNet(in_channels=3, num_classes=1)  # Adjust channels as needed\n",
    "model.to(device)\n",
    "criterion = DiceBCELoss()\n",
    "optimizer = optim.Adam(model.parameters(), lr=learning_rate)\n",
    "print(model)"
   ]
  },
  {
   "cell_type": "markdown",
   "metadata": {
    "id": "qNbiKDfVjrOh"
   },
   "source": [
    "## Training Loop"
   ]
  },
  {
   "cell_type": "code",
   "execution_count": 6,
   "metadata": {
    "colab": {
     "base_uri": "https://localhost:8080/"
    },
    "executionInfo": {
     "elapsed": 1130912,
     "status": "ok",
     "timestamp": 1734109874155,
     "user": {
      "displayName": "Akhil Prabhu",
      "userId": "15303007467658236616"
     },
     "user_tz": 300
    },
    "id": "IwLDvpZKjrOh",
    "outputId": "e15b92e3-22b3-45df-e2bb-48116312e5ef"
   },
   "outputs": [
    {
     "name": "stdout",
     "output_type": "stream",
     "text": [
      "Epoch 1/25\n"
     ]
    },
    {
     "name": "stderr",
     "output_type": "stream",
     "text": []
    },
    {
     "name": "stdout",
     "output_type": "stream",
     "text": [
      "Training Loss: 0.6514\n",
      "Validation Loss: 0.5901\n",
      "Checkpoint saved: UNet_checkpoints/unet_epoch_1.pth\n",
      "Epoch duration: 424.84 seconds\n",
      "\n",
      "Epoch 2/25\n"
     ]
    },
    {
     "name": "stderr",
     "output_type": "stream",
     "text": []
    },
    {
     "name": "stdout",
     "output_type": "stream",
     "text": [
      "Training Loss: 0.5465\n",
      "Validation Loss: 0.5059\n",
      "Checkpoint saved: UNet_checkpoints/unet_epoch_2.pth\n",
      "Epoch duration: 28.87 seconds\n",
      "\n",
      "Epoch 3/25\n"
     ]
    },
    {
     "name": "stderr",
     "output_type": "stream",
     "text": []
    },
    {
     "name": "stdout",
     "output_type": "stream",
     "text": [
      "Training Loss: 0.4794\n",
      "Validation Loss: 0.4416\n",
      "Checkpoint saved: UNet_checkpoints/unet_epoch_3.pth\n",
      "Epoch duration: 30.23 seconds\n",
      "\n",
      "Epoch 4/25\n"
     ]
    },
    {
     "name": "stderr",
     "output_type": "stream",
     "text": []
    },
    {
     "name": "stdout",
     "output_type": "stream",
     "text": [
      "Training Loss: 0.4061\n",
      "Validation Loss: 0.3558\n",
      "Checkpoint saved: UNet_checkpoints/unet_epoch_4.pth\n",
      "Epoch duration: 28.74 seconds\n",
      "\n",
      "Epoch 5/25\n"
     ]
    },
    {
     "name": "stderr",
     "output_type": "stream",
     "text": []
    },
    {
     "name": "stdout",
     "output_type": "stream",
     "text": [
      "Training Loss: 0.3362\n",
      "Validation Loss: 0.2992\n",
      "Checkpoint saved: UNet_checkpoints/unet_epoch_5.pth\n",
      "Epoch duration: 30.23 seconds\n",
      "\n",
      "Epoch 6/25\n"
     ]
    },
    {
     "name": "stderr",
     "output_type": "stream",
     "text": []
    },
    {
     "name": "stdout",
     "output_type": "stream",
     "text": [
      "Training Loss: 0.2869\n",
      "Validation Loss: 0.2671\n",
      "Checkpoint saved: UNet_checkpoints/unet_epoch_6.pth\n",
      "Epoch duration: 28.86 seconds\n",
      "\n",
      "Epoch 7/25\n"
     ]
    },
    {
     "name": "stderr",
     "output_type": "stream",
     "text": []
    },
    {
     "name": "stdout",
     "output_type": "stream",
     "text": [
      "Training Loss: 0.2656\n",
      "Validation Loss: 0.2521\n",
      "Checkpoint saved: UNet_checkpoints/unet_epoch_7.pth\n",
      "Epoch duration: 29.34 seconds\n",
      "\n",
      "Epoch 8/25\n"
     ]
    },
    {
     "name": "stderr",
     "output_type": "stream",
     "text": []
    },
    {
     "name": "stdout",
     "output_type": "stream",
     "text": [
      "Training Loss: 0.2348\n",
      "Validation Loss: 0.2183\n",
      "Checkpoint saved: UNet_checkpoints/unet_epoch_8.pth\n",
      "Epoch duration: 29.41 seconds\n",
      "\n",
      "Epoch 9/25\n"
     ]
    },
    {
     "name": "stderr",
     "output_type": "stream",
     "text": []
    },
    {
     "name": "stdout",
     "output_type": "stream",
     "text": [
      "Training Loss: 0.2185\n",
      "Validation Loss: 0.1980\n",
      "Checkpoint saved: UNet_checkpoints/unet_epoch_9.pth\n",
      "Epoch duration: 29.43 seconds\n",
      "\n",
      "Epoch 10/25\n"
     ]
    },
    {
     "name": "stderr",
     "output_type": "stream",
     "text": []
    },
    {
     "name": "stdout",
     "output_type": "stream",
     "text": [
      "Training Loss: 0.2178\n",
      "Validation Loss: 0.2066\n",
      "Checkpoint saved: UNet_checkpoints/unet_epoch_10.pth\n",
      "Epoch duration: 30.12 seconds\n",
      "\n",
      "Epoch 11/25\n"
     ]
    },
    {
     "name": "stderr",
     "output_type": "stream",
     "text": []
    },
    {
     "name": "stdout",
     "output_type": "stream",
     "text": [
      "Training Loss: 0.2141\n",
      "Validation Loss: 0.2240\n",
      "Checkpoint saved: UNet_checkpoints/unet_epoch_11.pth\n",
      "Epoch duration: 28.80 seconds\n",
      "\n",
      "Epoch 12/25\n"
     ]
    },
    {
     "name": "stderr",
     "output_type": "stream",
     "text": []
    },
    {
     "name": "stdout",
     "output_type": "stream",
     "text": [
      "Training Loss: 0.2074\n",
      "Validation Loss: 0.2086\n",
      "Checkpoint saved: UNet_checkpoints/unet_epoch_12.pth\n",
      "Epoch duration: 29.29 seconds\n",
      "\n",
      "Epoch 13/25\n"
     ]
    },
    {
     "name": "stderr",
     "output_type": "stream",
     "text": []
    },
    {
     "name": "stdout",
     "output_type": "stream",
     "text": [
      "Training Loss: 0.2076\n",
      "Validation Loss: 0.1864\n",
      "Checkpoint saved: UNet_checkpoints/unet_epoch_13.pth\n",
      "Epoch duration: 29.40 seconds\n",
      "\n",
      "Epoch 14/25\n"
     ]
    },
    {
     "name": "stderr",
     "output_type": "stream",
     "text": []
    },
    {
     "name": "stdout",
     "output_type": "stream",
     "text": [
      "Training Loss: 0.2054\n",
      "Validation Loss: 0.1888\n",
      "Checkpoint saved: UNet_checkpoints/unet_epoch_14.pth\n",
      "Epoch duration: 29.43 seconds\n",
      "\n",
      "Epoch 15/25\n"
     ]
    },
    {
     "name": "stderr",
     "output_type": "stream",
     "text": []
    },
    {
     "name": "stdout",
     "output_type": "stream",
     "text": [
      "Training Loss: 0.1984\n",
      "Validation Loss: 0.1872\n",
      "Checkpoint saved: UNet_checkpoints/unet_epoch_15.pth\n",
      "Epoch duration: 29.34 seconds\n",
      "\n",
      "Epoch 16/25\n"
     ]
    },
    {
     "name": "stderr",
     "output_type": "stream",
     "text": []
    },
    {
     "name": "stdout",
     "output_type": "stream",
     "text": [
      "Training Loss: 0.2100\n",
      "Validation Loss: 0.1762\n",
      "Checkpoint saved: UNet_checkpoints/unet_epoch_16.pth\n",
      "Epoch duration: 29.42 seconds\n",
      "\n",
      "Epoch 17/25\n"
     ]
    },
    {
     "name": "stderr",
     "output_type": "stream",
     "text": []
    },
    {
     "name": "stdout",
     "output_type": "stream",
     "text": [
      "Training Loss: 0.2070\n",
      "Validation Loss: 0.1788\n",
      "Checkpoint saved: UNet_checkpoints/unet_epoch_17.pth\n",
      "Epoch duration: 29.44 seconds\n",
      "\n",
      "Epoch 18/25\n"
     ]
    },
    {
     "name": "stderr",
     "output_type": "stream",
     "text": []
    },
    {
     "name": "stdout",
     "output_type": "stream",
     "text": [
      "Training Loss: 0.2002\n",
      "Validation Loss: 0.1771\n",
      "Checkpoint saved: UNet_checkpoints/unet_epoch_18.pth\n",
      "Epoch duration: 29.39 seconds\n",
      "\n",
      "Epoch 19/25\n"
     ]
    },
    {
     "name": "stderr",
     "output_type": "stream",
     "text": []
    },
    {
     "name": "stdout",
     "output_type": "stream",
     "text": [
      "Training Loss: 0.1913\n",
      "Validation Loss: 0.1811\n",
      "Checkpoint saved: UNet_checkpoints/unet_epoch_19.pth\n",
      "Epoch duration: 30.03 seconds\n",
      "\n",
      "Epoch 20/25\n"
     ]
    },
    {
     "name": "stderr",
     "output_type": "stream",
     "text": []
    },
    {
     "name": "stdout",
     "output_type": "stream",
     "text": [
      "Training Loss: 0.1935\n",
      "Validation Loss: 0.1719\n",
      "Checkpoint saved: UNet_checkpoints/unet_epoch_20.pth\n",
      "Epoch duration: 28.76 seconds\n",
      "\n",
      "Epoch 21/25\n"
     ]
    },
    {
     "name": "stderr",
     "output_type": "stream",
     "text": []
    },
    {
     "name": "stdout",
     "output_type": "stream",
     "text": [
      "Training Loss: 0.1931\n",
      "Validation Loss: 0.1702\n",
      "Checkpoint saved: UNet_checkpoints/unet_epoch_21.pth\n",
      "Epoch duration: 29.51 seconds\n",
      "\n",
      "Epoch 22/25\n"
     ]
    },
    {
     "name": "stderr",
     "output_type": "stream",
     "text": []
    },
    {
     "name": "stdout",
     "output_type": "stream",
     "text": [
      "Training Loss: 0.1877\n",
      "Validation Loss: 0.1734\n",
      "Checkpoint saved: UNet_checkpoints/unet_epoch_22.pth\n",
      "Epoch duration: 29.46 seconds\n",
      "\n",
      "Epoch 23/25\n"
     ]
    },
    {
     "name": "stderr",
     "output_type": "stream",
     "text": []
    },
    {
     "name": "stdout",
     "output_type": "stream",
     "text": [
      "Training Loss: 0.1950\n",
      "Validation Loss: 0.1830\n",
      "Checkpoint saved: UNet_checkpoints/unet_epoch_23.pth\n",
      "Epoch duration: 29.53 seconds\n",
      "\n",
      "Epoch 24/25\n"
     ]
    },
    {
     "name": "stderr",
     "output_type": "stream",
     "text": []
    },
    {
     "name": "stdout",
     "output_type": "stream",
     "text": [
      "Training Loss: 0.2015\n",
      "Validation Loss: 0.1675\n",
      "Checkpoint saved: UNet_checkpoints/unet_epoch_24.pth\n",
      "Epoch duration: 30.12 seconds\n",
      "\n",
      "Epoch 25/25\n"
     ]
    },
    {
     "name": "stderr",
     "output_type": "stream",
     "text": []
    },
    {
     "name": "stdout",
     "output_type": "stream",
     "text": [
      "Training Loss: 0.1877\n",
      "Validation Loss: 0.1707\n",
      "Checkpoint saved: UNet_checkpoints/unet_epoch_25.pth\n",
      "Epoch duration: 28.94 seconds\n",
      "\n",
      "Training completed!\n"
     ]
    }
   ],
   "source": [
    "# Initialize lists to store losses for plotting\n",
    "train_loss_history = []\n",
    "val_loss_history = []\n",
    "\n",
    "for epoch in range(num_epochs):\n",
    "    print(f\"Epoch {epoch+1}/{num_epochs}\")\n",
    "    epoch_start_time = time.time()\n",
    "\n",
    "    # Training\n",
    "    model.train()\n",
    "    running_train_loss = []\n",
    "    train_progress_bar = tqdm(train_loader, desc=\"Training\", leave=False)\n",
    "    for images, masks in train_progress_bar:\n",
    "        images, masks = images.to(device), masks.to(device)\n",
    "\n",
    "        # Forward pass\n",
    "        outputs = model(images)\n",
    "        loss = criterion(outputs, masks)\n",
    "\n",
    "        # Backward pass and optimization\n",
    "        optimizer.zero_grad()\n",
    "        loss.backward()\n",
    "        optimizer.step()\n",
    "\n",
    "        running_train_loss.append(loss.item())\n",
    "        train_progress_bar.set_postfix({\"Batch Loss\": loss.item()})\n",
    "\n",
    "    # Validation\n",
    "    model.eval()\n",
    "    running_val_loss = []\n",
    "    val_progress_bar = tqdm(val_loader, desc=\"Validation\", leave=False)\n",
    "    with torch.no_grad():\n",
    "        for images, masks in val_progress_bar:\n",
    "            images, masks = images.to(device), masks.to(device)\n",
    "            outputs = model(images)\n",
    "            loss = criterion(outputs, masks)\n",
    "            running_val_loss.append(loss.item())\n",
    "            val_progress_bar.set_postfix({\"Batch Loss\": loss.item()})\n",
    "\n",
    "    # Compute average losses\n",
    "    epoch_train_loss = np.mean(running_train_loss)\n",
    "    train_loss_history.append(epoch_train_loss)\n",
    "    print(f\"Training Loss: {epoch_train_loss:.4f}\")\n",
    "\n",
    "    epoch_val_loss = np.mean(running_val_loss)\n",
    "    val_loss_history.append(epoch_val_loss)\n",
    "    print(f\"Validation Loss: {epoch_val_loss:.4f}\")\n",
    "\n",
    "    # Save checkpoint\n",
    "    checkpoint_path = os.path.join(checkpoint_dir, f\"unet_epoch_{epoch+1}.pth\")\n",
    "    torch.save({\n",
    "        'epoch': epoch + 1,\n",
    "        'model_state_dict': model.state_dict(),\n",
    "        'optimizer_state_dict': optimizer.state_dict(),\n",
    "        'train_loss': epoch_train_loss,\n",
    "        'val_loss': epoch_val_loss,\n",
    "        'train_loss_history': train_loss_history,\n",
    "        'val_loss_history': val_loss_history,\n",
    "    }, checkpoint_path)\n",
    "    print(f\"Checkpoint saved: {checkpoint_path}\")\n",
    "\n",
    "    # Timing\n",
    "    epoch_end_time = time.time()\n",
    "    epoch_duration = epoch_end_time - epoch_start_time\n",
    "    print(f\"Epoch duration: {epoch_duration:.2f} seconds\\n\")\n",
    "\n",
    "print(\"Training completed!\")"
   ]
  },
  {
   "cell_type": "markdown",
   "metadata": {
    "id": "O-DHI87XjrOh"
   },
   "source": [
    "## Plot Losses"
   ]
  },
  {
   "cell_type": "code",
   "execution_count": 7,
   "metadata": {
    "colab": {
     "base_uri": "https://localhost:8080/",
     "height": 564
    },
    "executionInfo": {
     "elapsed": 514,
     "status": "ok",
     "timestamp": 1734109874665,
     "user": {
      "displayName": "Akhil Prabhu",
      "userId": "15303007467658236616"
     },
     "user_tz": 300
    },
    "id": "nXHtksuIjrOh",
    "outputId": "3a502166-9cc6-4529-bd18-2ac637c4f17f"
   },
   "outputs": [
    {
     "data": {
      "image/png": "[encoded data removed]",
      "text/plain": [
       "<Figure size 1000x600 with 1 Axes>"
      ]
     },
     "metadata": {},
     "output_type": "display_data"
    }
   ],
   "source": [
    "# Plot training and validation loss\n",
    "plt.figure(figsize=(10, 6))\n",
    "plt.plot(range(1, num_epochs + 1), train_loss_history, label=\"Training Loss\")\n",
    "plt.plot(range(1, num_epochs + 1), val_loss_history, label=\"Validation Loss\")\n",
    "plt.xlabel(\"Epochs\")\n",
    "plt.ylabel(\"Loss\")\n",
    "plt.title(\"Training and Validation Loss over Epochs\")\n",
    "plt.legend()\n",
    "plt.grid()\n",
    "plt.savefig(os.path.join(checkpoint_dir, \"loss_plot.png\"))  # Save the plot\n",
    "plt.show()"
   ]
  }
 ],
 "metadata": {
  "accelerator": "GPU",
  "colab": {
   "gpuType": "A100",
   "machine_shape": "hm",
   "provenance": []
  },
  "kernelspec": {
   "display_name": "Python 3",
   "name": "python3"
  },
  "language_info": {
   "codemirror_mode": {
    "name": "ipython",
    "version": 3
   },
   "file_extension": ".py",
   "mimetype": "text/x-python",
   "name": "python",
   "nbconvert_exporter": "python",
   "pygments_lexer": "ipython3",
   "version": "3.9.16"
  }
 },
 "nbformat": 4,
 "nbformat_minor": 0
}
